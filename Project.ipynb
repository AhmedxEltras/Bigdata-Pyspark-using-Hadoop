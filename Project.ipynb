{
 "cells": [
  {
   "cell_type": "markdown",
   "id": "eebcddfa",
   "metadata": {},
   "source": [
    "# Big Data project"
   ]
  },
  {
   "cell_type": "code",
   "execution_count": 1,
   "id": "e078f345",
   "metadata": {},
   "outputs": [],
   "source": [
    "from pyspark.sql import SparkSession"
   ]
  },
  {
   "cell_type": "markdown",
   "id": "237c989c",
   "metadata": {},
   "source": [
    "## Start spaek session"
   ]
  },
  {
   "cell_type": "code",
   "execution_count": 2,
   "id": "95981bf2",
   "metadata": {},
   "outputs": [
    {
     "name": "stderr",
     "output_type": "stream",
     "text": [
      "25/05/17 03:33:32 WARN Utils: Your hostname, eltras resolves to a loopback address: 127.0.1.1; using 192.168.1.3 instead (on interface wlp2s0)\n",
      "25/05/17 03:33:32 WARN Utils: Set SPARK_LOCAL_IP if you need to bind to another address\n",
      "Setting default log level to \"WARN\".\n",
      "To adjust logging level use sc.setLogLevel(newLevel). For SparkR, use setLogLevel(newLevel).\n",
      "25/05/17 03:33:33 WARN NativeCodeLoader: Unable to load native-hadoop library for your platform... using builtin-java classes where applicable\n"
     ]
    }
   ],
   "source": [
    "spark = SparkSession.builder \\\n",
    "    .appName(\"Read E-commerce Datasets\") \\\n",
    "    .getOrCreate()"
   ]
  },
  {
   "cell_type": "markdown",
   "id": "1408dac9",
   "metadata": {},
   "source": [
    "## get datasets"
   ]
  },
  {
   "cell_type": "code",
   "execution_count": 3,
   "id": "c26858b7",
   "metadata": {},
   "outputs": [
    {
     "name": "stderr",
     "output_type": "stream",
     "text": [
      "                                                                                \r"
     ]
    },
    {
     "name": "stdout",
     "output_type": "stream",
     "text": [
      "e-shop-clothing-2008.csv\n",
      "+----+-----+---+-----+-------+----------+----------------------+-----------------------+------+--------+-----------------+-----+-------+----+\n",
      "|year|month|day|order|country|session ID|page 1 (main category)|page 2 (clothing model)|colour|location|model photography|price|price 2|page|\n",
      "+----+-----+---+-----+-------+----------+----------------------+-----------------------+------+--------+-----------------+-----+-------+----+\n",
      "|2008|    4|  1|    1|     29|         1|                     1|                    A13|     1|       5|                1|   28|      2|   1|\n",
      "|2008|    4|  1|    2|     29|         1|                     1|                    A16|     1|       6|                1|   33|      2|   1|\n",
      "|2008|    4|  1|    3|     29|         1|                     2|                     B4|    10|       2|                1|   52|      1|   1|\n",
      "|2008|    4|  1|    4|     29|         1|                     2|                    B17|     6|       6|                2|   38|      2|   1|\n",
      "|2008|    4|  1|    5|     29|         1|                     2|                     B8|     4|       3|                2|   52|      1|   1|\n",
      "+----+-----+---+-----+-------+----------+----------------------+-----------------------+------+--------+-----------------+-----+-------+----+\n",
      "only showing top 5 rows\n",
      "\n",
      "root\n",
      " |-- year: string (nullable = true)\n",
      " |-- month: string (nullable = true)\n",
      " |-- day: string (nullable = true)\n",
      " |-- order: string (nullable = true)\n",
      " |-- country: string (nullable = true)\n",
      " |-- session ID: string (nullable = true)\n",
      " |-- page 1 (main category): string (nullable = true)\n",
      " |-- page 2 (clothing model): string (nullable = true)\n",
      " |-- colour: string (nullable = true)\n",
      " |-- location: string (nullable = true)\n",
      " |-- model photography: string (nullable = true)\n",
      " |-- price: string (nullable = true)\n",
      " |-- price 2: string (nullable = true)\n",
      " |-- page: string (nullable = true)\n",
      "\n",
      "online_retail_II.csv\n",
      "+-------+---------+--------------------+--------+-------------------+-----+-----------+--------------+\n",
      "|Invoice|StockCode|         Description|Quantity|        InvoiceDate|Price|Customer ID|       Country|\n",
      "+-------+---------+--------------------+--------+-------------------+-----+-----------+--------------+\n",
      "| 489434|    85048|15CM CHRISTMAS GL...|      12|12/01/2009 07:45:00| 6.95|      13085|United Kingdom|\n",
      "| 489434|   79323P|  PINK CHERRY LIGHTS|      12|12/01/2009 07:45:00| 6.75|      13085|United Kingdom|\n",
      "| 489434|   79323W| WHITE CHERRY LIGHTS|      12|12/01/2009 07:45:00| 6.75|      13085|United Kingdom|\n",
      "| 489434|    22041|\"RECORD FRAME 7\"\"...|      48|12/01/2009 07:45:00|  2.1|      13085|United Kingdom|\n",
      "| 489434|    21232|STRAWBERRY CERAMI...|      24|12/01/2009 07:45:00| 1.25|      13085|United Kingdom|\n",
      "+-------+---------+--------------------+--------+-------------------+-----+-----------+--------------+\n",
      "only showing top 5 rows\n",
      "\n",
      "root\n",
      " |-- Invoice: string (nullable = true)\n",
      " |-- StockCode: string (nullable = true)\n",
      " |-- Description: string (nullable = true)\n",
      " |-- Quantity: string (nullable = true)\n",
      " |-- InvoiceDate: string (nullable = true)\n",
      " |-- Price: string (nullable = true)\n",
      " |-- Customer ID: string (nullable = true)\n",
      " |-- Country: string (nullable = true)\n",
      "\n",
      "Online-Retail.csv\n",
      "+---------+---------+--------------------+--------+-------------------+---------+----------+--------------+\n",
      "|InvoiceNo|StockCode|         Description|Quantity|        InvoiceDate|UnitPrice|CustomerID|       Country|\n",
      "+---------+---------+--------------------+--------+-------------------+---------+----------+--------------+\n",
      "|   536365|   85123A|WHITE HANGING HEA...|       6|2010-12-01 08:26:00|     2.55|   17850.0|United Kingdom|\n",
      "|   536365|    71053| WHITE METAL LANTERN|       6|2010-12-01 08:26:00|     3.39|   17850.0|United Kingdom|\n",
      "|   536365|   84406B|CREAM CUPID HEART...|       8|2010-12-01 08:26:00|     2.75|   17850.0|United Kingdom|\n",
      "|   536365|   84029G|KNITTED UNION FLA...|       6|2010-12-01 08:26:00|     3.39|   17850.0|United Kingdom|\n",
      "|   536365|   84029E|RED WOOLLY HOTTIE...|       6|2010-12-01 08:26:00|     3.39|   17850.0|United Kingdom|\n",
      "+---------+---------+--------------------+--------+-------------------+---------+----------+--------------+\n",
      "only showing top 5 rows\n",
      "\n",
      "root\n",
      " |-- InvoiceNo: string (nullable = true)\n",
      " |-- StockCode: string (nullable = true)\n",
      " |-- Description: string (nullable = true)\n",
      " |-- Quantity: string (nullable = true)\n",
      " |-- InvoiceDate: string (nullable = true)\n",
      " |-- UnitPrice: string (nullable = true)\n",
      " |-- CustomerID: string (nullable = true)\n",
      " |-- Country: string (nullable = true)\n",
      "\n"
     ]
    }
   ],
   "source": [
    "eshop_df = spark.read.option(\"header\", \"true\") \\\n",
    "                     .option(\"sep\", \";\") \\\n",
    "                     .csv(\"hdfs://localhost:9000/Bigdatasets/e-shop-clothing-2008.csv\")\n",
    "\n",
    "print(\"e-shop-clothing-2008.csv\")\n",
    "eshop_df.show(5)\n",
    "eshop_df.printSchema()\n",
    "\n",
    "# ===== Dataset 2: Online Retail II =====\n",
    "retail2_df = spark.read.option(\"header\", \"true\") \\\n",
    "                       .csv(\"hdfs://localhost:9000/Bigdatasets/online_retail_II.csv\")\n",
    "\n",
    "print(\"online_retail_II.csv\")\n",
    "retail2_df.show(5)\n",
    "retail2_df.printSchema()\n",
    "\n",
    "# ===== Dataset 3: Online Retail =====\n",
    "retail_df = spark.read.option(\"header\", \"true\") \\\n",
    "                      .csv(\"hdfs://localhost:9000/Bigdatasets/Online-Retail.csv\")\n",
    "\n",
    "print(\"Online-Retail.csv\")\n",
    "retail_df.show(5)\n",
    "retail_df.printSchema()"
   ]
  },
  {
   "cell_type": "code",
   "execution_count": null,
   "id": "a6ac5a69",
   "metadata": {},
   "outputs": [],
   "source": []
  }
 ],
 "metadata": {
  "kernelspec": {
   "display_name": "Python 3",
   "language": "python",
   "name": "python3"
  },
  "language_info": {
   "codemirror_mode": {
    "name": "ipython",
    "version": 3
   },
   "file_extension": ".py",
   "mimetype": "text/x-python",
   "name": "python",
   "nbconvert_exporter": "python",
   "pygments_lexer": "ipython3",
   "version": "3.12.7"
  }
 },
 "nbformat": 4,
 "nbformat_minor": 5
}
